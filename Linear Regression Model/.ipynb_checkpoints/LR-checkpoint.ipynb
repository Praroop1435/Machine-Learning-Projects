{
 "cells": [
  {
   "cell_type": "code",
   "execution_count": null,
   "id": "79f67e9b-1def-4d91-9652-47133d5d4fcd",
   "metadata": {},
   "outputs": [],
   "source": [
    "class MeraLR:\n",
    "\n",
    "    def __init__(self):\n",
    "        self.m = None\n",
    "        self.b = None\n",
    "\n",
    "    def fit(self,X_train,y_train):\n",
    "\n",
    "        num = 0\n",
    "        den = 0\n",
    "        \n",
    "        for i in range(X_train.shape[0]):\n",
    "\n",
    "            num = num + ((X_train[i] - X_train.mean())*(y_train[i] - y_train.mean()))\n",
    "            den = den + ((X_train[i] - X_train.mean())*(X_train[i] - X_train.mean()))\n",
    "\n",
    "        self.m = num/den\n",
    "        self.b = y_train.mean() - (self.m * X_train.mean())\n",
    "        print(self.m)\n",
    "        print(self.b)\n",
    "    def predict(self,X_test):\n",
    "        return self.m * X_test + self.b\n",
    "\n",
    "    def score(self, X_test, y_test):\n",
    "        y_pred = self.predict(X_test)\n",
    "        u = ((y_test - y_pred)**2).sum()      # Residual sum of squares\n",
    "        v = ((y_test - y_test.mean())**2).sum()  # Total sum of squares\n",
    "        r2 = 1 - (u/v)\n",
    "        return r2\n"
   ]
  },
  {
   "cell_type": "code",
   "execution_count": null,
   "id": "2e3238dc-805c-41aa-aff3-116207071e95",
   "metadata": {},
   "outputs": [],
   "source": [
    "import numpy as np \n",
    "import pandas as pd\n",
    "import matplotlib.pyplot as plt\n"
   ]
  },
  {
   "cell_type": "code",
   "execution_count": null,
   "id": "7cb192e3-c635-4e66-91c7-9a1f4396a758",
   "metadata": {},
   "outputs": [],
   "source": [
    "df = pd.read_csv('placement.csv')"
   ]
  },
  {
   "cell_type": "code",
   "execution_count": null,
   "id": "4967283b-18d3-4db2-9585-2849e6fdb58a",
   "metadata": {},
   "outputs": [],
   "source": [
    "df.head()"
   ]
  },
  {
   "cell_type": "code",
   "execution_count": null,
   "id": "92026147-b062-4430-b5e6-9d1011d7b3de",
   "metadata": {},
   "outputs": [],
   "source": [
    "X = df.iloc[:,0].values\n",
    "y = df.iloc[:,1].values"
   ]
  },
  {
   "cell_type": "code",
   "execution_count": null,
   "id": "d24c036b-1331-4023-a094-2421bebb3653",
   "metadata": {
    "scrolled": true
   },
   "outputs": [],
   "source": [
    "X"
   ]
  },
  {
   "cell_type": "code",
   "execution_count": null,
   "id": "d7113f55-1198-4344-835c-86bcec7940d9",
   "metadata": {},
   "outputs": [],
   "source": [
    "y"
   ]
  },
  {
   "cell_type": "code",
   "execution_count": null,
   "id": "c48c183f-917d-4fd6-b99c-2768754870b7",
   "metadata": {},
   "outputs": [],
   "source": [
    "from sklearn.model_selection import train_test_split\n",
    "X_train,X_test,y_train,y_test = train_test_split(X,y,test_size=0.2)"
   ]
  },
  {
   "cell_type": "code",
   "execution_count": null,
   "id": "467f752e-4869-4b8b-8fc1-87664c8d2bd4",
   "metadata": {},
   "outputs": [],
   "source": [
    "X_train.shape"
   ]
  },
  {
   "cell_type": "code",
   "execution_count": null,
   "id": "c3497276-c707-4da9-8ca1-8e930edeaae4",
   "metadata": {},
   "outputs": [],
   "source": [
    "model = MeraLR()\n",
    "model.fit(X_train,y_train)"
   ]
  },
  {
   "cell_type": "code",
   "execution_count": null,
   "id": "fcdebda3-877d-4ea1-8a3d-40e8296d698b",
   "metadata": {},
   "outputs": [],
   "source": [
    "y_pred = model.fit(X,y)"
   ]
  },
  {
   "cell_type": "code",
   "execution_count": null,
   "id": "5325654a-999f-4bf3-b8e0-c65dc4d3e414",
   "metadata": {},
   "outputs": [],
   "source": [
    "X_test[0]"
   ]
  },
  {
   "cell_type": "code",
   "execution_count": null,
   "id": "6336d474-81a2-4716-8bea-4aac9b9c1e49",
   "metadata": {},
   "outputs": [],
   "source": [
    "model.predict(X_test[0])"
   ]
  },
  {
   "cell_type": "code",
   "execution_count": null,
   "id": "23d317e3-8901-4c84-8b09-15093dfe68cb",
   "metadata": {},
   "outputs": [],
   "source": [
    "# print metric to get performance\n",
    "print(\"Accuracy: \",model.score(X_test, y_test) * 100)\n"
   ]
  },
  {
   "cell_type": "code",
   "execution_count": null,
   "id": "da21399a-149b-400e-bf21-f1d94769cc3a",
   "metadata": {},
   "outputs": [],
   "source": [
    "plt.scatter(df['cgpa'],df['package'])\n",
    "plt.plot(X_train,model.predict(X_train),color='red')\n",
    "plt.xlabel('CGPA')\n",
    "plt.ylabel('Package(in lpa)')\n"
   ]
  },
  {
   "cell_type": "code",
   "execution_count": null,
   "id": "d784c6d6-54b4-425d-a294-72e2136a9ece",
   "metadata": {},
   "outputs": [],
   "source": []
  }
 ],
 "metadata": {
  "kernelspec": {
   "display_name": "Python 3",
   "language": "python",
   "name": "python3"
  },
  "language_info": {
   "codemirror_mode": {
    "name": "ipython",
    "version": 3
   },
   "file_extension": ".py",
   "mimetype": "text/x-python",
   "name": "python",
   "nbconvert_exporter": "python",
   "pygments_lexer": "ipython3",
   "version": "3.10.11"
  }
 },
 "nbformat": 4,
 "nbformat_minor": 5
}
